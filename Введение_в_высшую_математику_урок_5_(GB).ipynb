{
  "nbformat": 4,
  "nbformat_minor": 0,
  "metadata": {
    "colab": {
      "name": "Введение в высшую математику урок 5 (GB).ipynb",
      "provenance": [],
      "toc_visible": true,
      "collapsed_sections": [],
      "authorship_tag": "ABX9TyMr2pr3c1SSetKKOLUMVQED",
      "include_colab_link": true
    },
    "kernelspec": {
      "name": "python3",
      "display_name": "Python 3"
    },
    "language_info": {
      "name": "python"
    }
  },
  "cells": [
    {
      "cell_type": "markdown",
      "metadata": {
        "id": "view-in-github",
        "colab_type": "text"
      },
      "source": [
        "<a href=\"https://colab.research.google.com/github/nddruu/GooColab/blob/main/%D0%92%D0%B2%D0%B5%D0%B4%D0%B5%D0%BD%D0%B8%D0%B5_%D0%B2_%D0%B2%D1%8B%D1%81%D1%88%D1%83%D1%8E_%D0%BC%D0%B0%D1%82%D0%B5%D0%BC%D0%B0%D1%82%D0%B8%D0%BA%D1%83_%D1%83%D1%80%D0%BE%D0%BA_5_(GB).ipynb\" target=\"_parent\"><img src=\"https://colab.research.google.com/assets/colab-badge.svg\" alt=\"Open In Colab\"/></a>"
      ]
    },
    {
      "cell_type": "markdown",
      "source": [
        "Элементы теории вероятностей"
      ],
      "metadata": {
        "id": "jNkjD1RkLmMy"
      }
    },
    {
      "cell_type": "code",
      "execution_count": 5,
      "metadata": {
        "id": "5J3TcAtfLYlb",
        "colab": {
          "base_uri": "https://localhost:8080/"
        },
        "outputId": "e4e0d815-5564-45e1-d8bb-5b575e9174b1"
      },
      "outputs": [
        {
          "output_type": "stream",
          "name": "stdout",
          "text": [
            "[11, 15, 25, 8, 15, 6, 23, 1, 31, 12, 11, 4, 21, 7, 2, 4, 22, 29, 5, 25, 15, 12, 30, 35, 1, 32, 19, 23, 27, 3, 18, 31, 23, 8, 16, 2, 11, 2, 3, 3, 10, 14, 8, 32, 27, 34, 14, 5, 3, 22, 2, 18, 0, 16, 21, 10, 34, 12, 35, 7, 22, 18, 32, 14, 12, 27, 22, 33, 10, 13, 2, 14, 11, 7, 15, 35, 2, 16, 1, 18, 7, 1, 34, 35, 23, 15, 30, 12, 29, 26, 27, 35, 27, 1, 3, 31, 11, 3, 8, 28]\n"
          ]
        }
      ],
      "source": [
        "#Напишите код, моделирующий выпадение поля в рулетке (с учетом поля зеро).\n",
        "import numpy as np\n",
        "\n",
        "res = []\n",
        "for i in range(0, 100):\n",
        "  x = np.random.uniform(0, 36)\n",
        "  res.append(int(np.round(x)))\n",
        "\n",
        "print(res)"
      ]
    },
    {
      "cell_type": "code",
      "source": [
        "#Напишите код, проверяющий любую из теорем сложения или умножения вероятности на примере рулетки или подбрасывания монетки.\n",
        "\n"
      ],
      "metadata": {
        "id": "rBS_40Czmf7Q"
      },
      "execution_count": null,
      "outputs": []
    }
  ]
}