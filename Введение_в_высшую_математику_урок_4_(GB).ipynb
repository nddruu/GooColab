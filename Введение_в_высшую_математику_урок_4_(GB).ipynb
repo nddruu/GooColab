{
  "nbformat": 4,
  "nbformat_minor": 0,
  "metadata": {
    "colab": {
      "name": "Введение в высшую математику урок 4 (GB).ipynb",
      "provenance": [],
      "toc_visible": true,
      "authorship_tag": "ABX9TyPfj2TXp3kJKLHlk7DWfNIg",
      "include_colab_link": true
    },
    "kernelspec": {
      "name": "python3",
      "display_name": "Python 3"
    },
    "language_info": {
      "name": "python"
    }
  },
  "cells": [
    {
      "cell_type": "markdown",
      "metadata": {
        "id": "view-in-github",
        "colab_type": "text"
      },
      "source": [
        "<a href=\"https://colab.research.google.com/github/nddruu/GooColab/blob/main/%D0%92%D0%B2%D0%B5%D0%B4%D0%B5%D0%BD%D0%B8%D0%B5_%D0%B2_%D0%B2%D1%8B%D1%81%D1%88%D1%83%D1%8E_%D0%BC%D0%B0%D1%82%D0%B5%D0%BC%D0%B0%D1%82%D0%B8%D0%BA%D1%83_%D1%83%D1%80%D0%BE%D0%BA_4_(GB).ipynb\" target=\"_parent\"><img src=\"https://colab.research.google.com/assets/colab-badge.svg\" alt=\"Open In Colab\"/></a>"
      ]
    },
    {
      "cell_type": "markdown",
      "source": [
        "“Введение в аналитическую геометрию. Графики на плоскости”"
      ],
      "metadata": {
        "id": "jNkjD1RkLmMy"
      }
    },
    {
      "cell_type": "code",
      "execution_count": null,
      "metadata": {
        "id": "5J3TcAtfLYlb"
      },
      "outputs": [],
      "source": [
        ""
      ]
    }
  ]
}