{
  "cells": [
    {
      "cell_type": "markdown",
      "metadata": {
        "id": "view-in-github",
        "colab_type": "text"
      },
      "source": [
        "<a href=\"https://colab.research.google.com/github/nddruu/GooColab/blob/main/%D0%92%D0%B2%D0%B5%D0%B4%D0%B5%D0%BD%D0%B8%D0%B5_%D0%B2_%D0%B2%D1%8B%D1%81%D1%88%D1%83%D1%8E_%D0%BC%D0%B0%D1%82%D0%B5%D0%BC%D0%B0%D1%82%D0%B8%D0%BA%D1%83_(GB).ipynb\" target=\"_parent\"><img src=\"https://colab.research.google.com/assets/colab-badge.svg\" alt=\"Open In Colab\"/></a>"
      ]
    },
    {
      "cell_type": "markdown",
      "source": [
        "# Задания к уроку 3"
      ],
      "metadata": {
        "id": "uZd0veqeJ7QF"
      }
    },
    {
      "cell_type": "code",
      "source": [
        "class Vector3D():\n",
        "  def __init__(self, x, y, z) -> None:\n",
        "      self.x = x\n",
        "      self.y = y\n",
        "      self.z = z\n",
        "\n",
        "  def __str__(self) -> str:\n",
        "      return f\"Вектор с координатами x={self.x}; y={self.y}; z= {self.z}\"\n",
        "  \n",
        "  def __add__(self, other):\n",
        "    return Vector3D(self.x + other.x, self.y + other.y, self.z + other.z)\n",
        "\n",
        "a = Vector3D(10, 10, 10)\n",
        "b = Vector3D(0, 0, -10)\n",
        "print(a + b)"
      ],
      "metadata": {
        "colab": {
          "base_uri": "https://localhost:8080/"
        },
        "id": "VPTcShF6Egg5",
        "outputId": "310f50ba-56c9-4765-d9d7-b68b2193c5ef"
      },
      "execution_count": null,
      "outputs": [
        {
          "output_type": "stream",
          "name": "stdout",
          "text": [
            "Вектор с координатами x=10; y=10; z= 0\n"
          ]
        }
      ]
    },
    {
      "cell_type": "code",
      "source": [
        "import numpy as np\n",
        "import matplotlib.pyplot as plt\n",
        "\n",
        "x = np.linspace(-1, 3, 201)\n",
        "print(np.poly([1, 1, 2]))\n",
        "plt.plot(x, x**3 - 4*x**2 + 5*x - 3)\n",
        "plt.plot(x,np.polyval([1., -4.,  5., -2.],x))\n",
        "plt.plot(x, np.exp(x))\n",
        "plt.xlabel('x')\n",
        "plt.ylabel('y')\n",
        "plt.xlim(-1,3)\n",
        "plt.ylim(-2,2)\n",
        "plt.grid(True)\n",
        "plt.show()\n",
        "print(np.roots([ 1., -4.,  5., -2.]))\n",
        "\n",
        "\n"
      ],
      "metadata": {
        "id": "U1OFSBMIZcn5",
        "outputId": "d39bc8d2-c662-42a5-c6ac-76af7982609b",
        "colab": {
          "base_uri": "https://localhost:8080/",
          "height": 318
        }
      },
      "execution_count": null,
      "outputs": [
        {
          "output_type": "stream",
          "name": "stdout",
          "text": [
            "[ 1. -4.  5. -2.]\n"
          ]
        },
        {
          "output_type": "display_data",
          "data": {
            "text/plain": [
              "<Figure size 432x288 with 1 Axes>"
            ],
            "image/png": "[encoded data removed]"
          },
          "metadata": {
            "needs_background": "light"
          }
        },
        {
          "output_type": "stream",
          "name": "stdout",
          "text": [
            "[2.+0.00000000e+00j 1.+2.83263462e-08j 1.-2.83263462e-08j]\n"
          ]
        }
      ]
    }
  ],
  "metadata": {
    "colab": {
      "collapsed_sections": [],
      "name": "Введение в высшую математику (GB)",
      "toc_visible": true,
      "provenance": [],
      "include_colab_link": true
    },
    "kernelspec": {
      "display_name": "Python 3",
      "name": "python3"
    }
  },
  "nbformat": 4,
  "nbformat_minor": 0
}